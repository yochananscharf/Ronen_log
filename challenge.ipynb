{
 "cells": [
  {
   "cell_type": "code",
   "execution_count": 1,
   "metadata": {
    "collapsed": true
   },
   "outputs": [],
   "source": [
    "import re\n",
    "import pandas as pd\n",
    "from datetime import datetime"
   ]
  },
  {
   "cell_type": "code",
   "execution_count": 2,
   "metadata": {
    "collapsed": true
   },
   "outputs": [],
   "source": [
    "log_file_path = \"adubovyk.txt\"\n",
    "\n",
    "with open(log_file_path, \"rb\") as fin:\n",
    "    data = fin.read()"
   ]
  },
  {
   "cell_type": "code",
   "execution_count": 3,
   "metadata": {
    "collapsed": true
   },
   "outputs": [],
   "source": [
    "ts_regex = (r'\\d\\d-\\w\\w\\w-\\d\\d\\d\\d \\d\\d:\\d\\d:\\d\\d')\n",
    "prjct_regex = (r' \\[\\w+\\] \\- [A-Z][A-Z]')"
   ]
  },
  {
   "cell_type": "code",
   "execution_count": 4,
   "metadata": {},
   "outputs": [],
   "source": [
    "lines = data.decode().split('\\n') # split on newline characters"
   ]
  },
  {
   "cell_type": "code",
   "execution_count": 5,
   "metadata": {},
   "outputs": [],
   "source": [
    "re.match(ts_regex, lines[2], flags=0)"
   ]
  },
  {
   "cell_type": "code",
   "execution_count": 6,
   "metadata": {},
   "outputs": [],
   "source": [
    "# extract lines beginning with time-stamp, assuming other lines as irrelevant.\n",
    "lines_relevant = [(datetime.strptime(line[:20], \"%d-%b-%Y %H:%M:%S\"),line[22:].strip()) \n",
    "                              for line in lines if (re.match(ts_regex, line, flags=0))]"
   ]
  },
  {
   "cell_type": "markdown",
   "metadata": {},
   "source": [
    "## 1. Parse the file into two columns: timestamp and event​."
   ]
  },
  {
   "cell_type": "code",
   "execution_count": 7,
   "metadata": {
    "scrolled": false
   },
   "outputs": [
    {
     "data": {
      "text/html": [
       "<div>\n",
       "<style>\n",
       "    .dataframe thead tr:only-child th {\n",
       "        text-align: right;\n",
       "    }\n",
       "\n",
       "    .dataframe thead th {\n",
       "        text-align: left;\n",
       "    }\n",
       "\n",
       "    .dataframe tbody tr th {\n",
       "        vertical-align: top;\n",
       "    }\n",
       "</style>\n",
       "<table border=\"1\" class=\"dataframe\">\n",
       "  <thead>\n",
       "    <tr style=\"text-align: right;\">\n",
       "      <th></th>\n",
       "      <th>time_stamp</th>\n",
       "      <th>event</th>\n",
       "    </tr>\n",
       "  </thead>\n",
       "  <tbody>\n",
       "    <tr>\n",
       "      <th>0</th>\n",
       "      <td>2017-08-15 11:56:50</td>\n",
       "      <td>needToCreateFontConfig = true</td>\n",
       "    </tr>\n",
       "    <tr>\n",
       "      <th>1</th>\n",
       "      <td>2017-08-15 11:56:50</td>\n",
       "      <td>Loading configuration from: D:\\axiom\\client\\pr...</td>\n",
       "    </tr>\n",
       "    <tr>\n",
       "      <th>2</th>\n",
       "      <td>2017-08-15 11:56:51</td>\n",
       "      <td>Frame opened: Controller View  [hrk_cv_co]</td>\n",
       "    </tr>\n",
       "    <tr>\n",
       "      <th>3</th>\n",
       "      <td>2017-08-15 11:57:02</td>\n",
       "      <td>Connecting to 192.168.138.17:2020</td>\n",
       "    </tr>\n",
       "    <tr>\n",
       "      <th>4</th>\n",
       "      <td>2017-08-15 11:57:03</td>\n",
       "      <td>Connection type was overrided to UNIDIRECTIONA...</td>\n",
       "    </tr>\n",
       "  </tbody>\n",
       "</table>\n",
       "</div>"
      ],
      "text/plain": [
       "           time_stamp                                              event\n",
       "0 2017-08-15 11:56:50                      needToCreateFontConfig = true\n",
       "1 2017-08-15 11:56:50  Loading configuration from: D:\\axiom\\client\\pr...\n",
       "2 2017-08-15 11:56:51         Frame opened: Controller View  [hrk_cv_co]\n",
       "3 2017-08-15 11:57:02                  Connecting to 192.168.138.17:2020\n",
       "4 2017-08-15 11:57:03  Connection type was overrided to UNIDIRECTIONA..."
      ]
     },
     "execution_count": 7,
     "metadata": {},
     "output_type": "execute_result"
    }
   ],
   "source": [
    "pd.DataFrame(lines_relevant, columns=['time_stamp', 'event']).head()"
   ]
  },
  {
   "cell_type": "markdown",
   "metadata": {},
   "source": [
    "## 2. Extract two entities : Project and Branch"
   ]
  },
  {
   "cell_type": "code",
   "execution_count": 8,
   "metadata": {},
   "outputs": [],
   "source": [
    "project_lines = [(datetime.date(line[0]), re.search('\\[(.*?)\\]', line[1]).group(1), \\\n",
    "                  line[1].split('-')[-1].strip().replace('.trunk',''))\\\n",
    "                  for line in lines_relevant if  re.search(prjct_regex, line[1])]"
   ]
  },
  {
   "cell_type": "code",
   "execution_count": 9,
   "metadata": {},
   "outputs": [
    {
     "data": {
      "text/html": [
       "<div>\n",
       "<style>\n",
       "    .dataframe thead tr:only-child th {\n",
       "        text-align: right;\n",
       "    }\n",
       "\n",
       "    .dataframe thead th {\n",
       "        text-align: left;\n",
       "    }\n",
       "\n",
       "    .dataframe tbody tr th {\n",
       "        vertical-align: top;\n",
       "    }\n",
       "</style>\n",
       "<table border=\"1\" class=\"dataframe\">\n",
       "  <thead>\n",
       "    <tr style=\"text-align: right;\">\n",
       "      <th></th>\n",
       "      <th>date</th>\n",
       "      <th>project</th>\n",
       "      <th>branch</th>\n",
       "    </tr>\n",
       "  </thead>\n",
       "  <tbody>\n",
       "    <tr>\n",
       "      <th>0</th>\n",
       "      <td>2017-08-15</td>\n",
       "      <td>hrk_cv_co</td>\n",
       "      <td>REPORTE_TRANSACCIONES_EFECTIVO</td>\n",
       "    </tr>\n",
       "    <tr>\n",
       "      <th>1</th>\n",
       "      <td>2017-08-15</td>\n",
       "      <td>hrk_cv_co</td>\n",
       "      <td>REPORTE_TRANSACCIONES_EFECTIVO</td>\n",
       "    </tr>\n",
       "    <tr>\n",
       "      <th>2</th>\n",
       "      <td>2017-08-15</td>\n",
       "      <td>hrk_cv_co</td>\n",
       "      <td>REPORTE_TRANSACCIONES_EFECTIVO</td>\n",
       "    </tr>\n",
       "    <tr>\n",
       "      <th>3</th>\n",
       "      <td>2017-08-15</td>\n",
       "      <td>hrk_cv_co</td>\n",
       "      <td>REPORTE_TRANSACCIONES_EFECTIVO</td>\n",
       "    </tr>\n",
       "    <tr>\n",
       "      <th>4</th>\n",
       "      <td>2017-08-15</td>\n",
       "      <td>hrk_cv_co</td>\n",
       "      <td>REPORTE_TRANSACCIONES_EFECTIVO</td>\n",
       "    </tr>\n",
       "  </tbody>\n",
       "</table>\n",
       "</div>"
      ],
      "text/plain": [
       "         date    project                          branch\n",
       "0  2017-08-15  hrk_cv_co  REPORTE_TRANSACCIONES_EFECTIVO\n",
       "1  2017-08-15  hrk_cv_co  REPORTE_TRANSACCIONES_EFECTIVO\n",
       "2  2017-08-15  hrk_cv_co  REPORTE_TRANSACCIONES_EFECTIVO\n",
       "3  2017-08-15  hrk_cv_co  REPORTE_TRANSACCIONES_EFECTIVO\n",
       "4  2017-08-15  hrk_cv_co  REPORTE_TRANSACCIONES_EFECTIVO"
      ]
     },
     "execution_count": 9,
     "metadata": {},
     "output_type": "execute_result"
    }
   ],
   "source": [
    "project_df = pd.DataFrame(project_lines, columns=['date','project', 'branch'])\n",
    "project_df.head()"
   ]
  },
  {
   "cell_type": "markdown",
   "metadata": {},
   "source": [
    "## 3. Simple report that count the number of events per day per project per branch."
   ]
  },
  {
   "cell_type": "code",
   "execution_count": 10,
   "metadata": {},
   "outputs": [
    {
     "data": {
      "text/plain": [
       "project    branch                             date      \n",
       "hrk_cv_co  CVT                                2017-08-28      1\n",
       "           FATCA_DATA                         2017-08-16      1\n",
       "           FATCA_DATA.2016_v02                2017-08-16      1\n",
       "           FORMATO_322_323                    2017-08-16      3\n",
       "                                              2017-09-05      9\n",
       "           FORMATO_473                        2017-09-04      2\n",
       "           FORMATO_531                        2017-09-06      4\n",
       "           REPORTE_DEP_INDIV_FOGAFIN          2017-09-05    201\n",
       "                                              2017-09-06    126\n",
       "                                              2017-09-08     51\n",
       "           REPORTE_DEP_INDIV_FOGAFIN *        2017-09-05      1\n",
       "           REPORTE_DEP_INDIV_FOGAFIN1         2017-09-06     26\n",
       "           REPORTE_TRANSACCIONES_EFECTIVO     2017-08-15     51\n",
       "                                              2017-08-16     44\n",
       "                                              2017-08-28     24\n",
       "                                              2017-08-29      8\n",
       "                                              2017-08-30     71\n",
       "                                              2017-08-31     22\n",
       "                                              2017-09-04     27\n",
       "                                              2017-09-05      4\n",
       "                                              2017-09-06      4\n",
       "           REPORTE_TRANSACCIONES_EFECTIVO_my  2017-08-16     28\n",
       "                                              2017-08-17     38\n",
       "                                              2017-08-18      4\n",
       "                                              2017-08-19     54\n",
       "                                              2017-08-21     10\n",
       "                                              2017-08-28      1\n",
       "           Reporte_Dep_Indiv_Fogafin          2017-09-04      2\n",
       "                                              2017-09-05      1\n",
       "           Reporte_Dep_Indiv_Fogafin_ds       2017-08-19      1\n",
       "           TX_Realizadas                      2017-08-16      1\n",
       "           VAR_CART                           2017-09-04      2\n",
       "Name: date, dtype: int64"
      ]
     },
     "execution_count": 10,
     "metadata": {},
     "output_type": "execute_result"
    }
   ],
   "source": [
    "# groupby(by=['question', 'answer'])['answer'].count()\n",
    "project_df.groupby(by=['project','branch', 'date'])['date'].count()"
   ]
  }
 ],
 "metadata": {
  "kernelspec": {
   "display_name": "Python 3",
   "language": "python",
   "name": "python3"
  },
  "language_info": {
   "codemirror_mode": {
    "name": "ipython",
    "version": 3
   },
   "file_extension": ".py",
   "mimetype": "text/x-python",
   "name": "python",
   "nbconvert_exporter": "python",
   "pygments_lexer": "ipython3",
   "version": "3.6.1"
  }
 },
 "nbformat": 4,
 "nbformat_minor": 2
}
